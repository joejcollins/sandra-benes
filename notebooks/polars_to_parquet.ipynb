{
 "cells": [
  {
   "cell_type": "markdown",
   "id": "9f80d0bd",
   "metadata": {},
   "source": [
    "# Test"
   ]
  },
  {
   "cell_type": "code",
   "execution_count": null,
   "id": "b0038e76",
   "metadata": {},
   "outputs": [
    {
     "name": "stdout",
     "output_type": "stream",
     "text": [
      "import polars as pl\n",
      "Wrote simple_polars.parquet\n"
     ]
    }
   ],
   "source": [
    "\"\"\"Eat my shorts, Pandas.\"\"\"\n",
    "import polars as pl\n",
    "\n",
    "\n",
    "def write_simple_table_polars(path: str) -> None:\n",
    "    \"\"\"Create a tiny DataFrame with 3 rows.\"\"\"\n",
    "    df = pl.DataFrame({\n",
    "        \"id\": [1, 2, 3],\n",
    "        \"name\": [\"Alice\", \"Bob\", \"Charlie\"],\n",
    "        \"score\": [95.5, 88.0, 72.3],\n",
    "    })\n",
    "\n",
    "    # Write to Parquet\n",
    "    df.write_parquet(path, compression=\"snappy\")\n",
    "    print(f\"Wrote {path}\")\n",
    "\n",
    "write_simple_table_polars(\"simple_polars.parquet\")"
   ]
  }
 ],
 "metadata": {
  "kernelspec": {
   "display_name": ".venv (3.13.3)",
   "language": "python",
   "name": "python3"
  },
  "language_info": {
   "codemirror_mode": {
    "name": "ipython",
    "version": 3
   },
   "file_extension": ".py",
   "mimetype": "text/x-python",
   "name": "python",
   "nbconvert_exporter": "python",
   "pygments_lexer": "ipython3",
   "version": "3.13.3"
  }
 },
 "nbformat": 4,
 "nbformat_minor": 5
}
