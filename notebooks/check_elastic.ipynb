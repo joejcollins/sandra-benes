{
 "cells": [
  {
   "cell_type": "code",
   "execution_count": 1,
   "id": "513095a8",
   "metadata": {},
   "outputs": [
    {
     "data": {
      "text/plain": [
       "(ObjectApiResponse({'name': '3c727d5cadcf', 'cluster_name': 'docker-cluster', 'cluster_uuid': 'KA2DDhPOS4GmBRP0T5yKrQ', 'version': {'number': '9.1.1', 'build_flavor': 'default', 'build_type': 'docker', 'build_hash': '5e94055934defa56e454868b7783b2a3b683785e', 'build_date': '2025-08-05T01:07:31.959947279Z', 'build_snapshot': False, 'lucene_version': '10.2.2', 'minimum_wire_compatibility_version': '8.19.0', 'minimum_index_compatibility_version': '8.0.0'}, 'tagline': 'You Know, for Search'}),\n",
       " True)"
      ]
     },
     "execution_count": 1,
     "metadata": {},
     "output_type": "execute_result"
    }
   ],
   "source": [
    "from elasticsearch import Elasticsearch\n",
    "\n",
    "base_url = \"http://elasticsearch:9200\"\n",
    "es = Elasticsearch(base_url, request_timeout=10)\n",
    "# Quick checks\n",
    "info = es.info()\n",
    "healthy = es.ping()\n",
    "info, healthy"
   ]
  }
 ],
 "metadata": {
  "kernelspec": {
   "display_name": ".venv (3.13.7)",
   "language": "python",
   "name": "python3"
  },
  "language_info": {
   "codemirror_mode": {
    "name": "ipython",
    "version": 3
   },
   "file_extension": ".py",
   "mimetype": "text/x-python",
   "name": "python",
   "nbconvert_exporter": "python",
   "pygments_lexer": "ipython3",
   "version": "3.13.7"
  }
 },
 "nbformat": 4,
 "nbformat_minor": 5
}
